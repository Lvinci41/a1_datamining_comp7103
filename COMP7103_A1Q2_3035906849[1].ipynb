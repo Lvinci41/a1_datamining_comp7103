{
 "cells": [
  {
   "cell_type": "code",
   "execution_count": 1,
   "metadata": {},
   "outputs": [],
   "source": [
    "#setup, grabbing all relevant libraries\n",
    "\n",
    "import numpy as np\n",
    "import pandas as pd\n",
    "import matplotlib.pyplot as plt\n",
    "%matplotlib inline\n",
    "\n",
    "#Euclidean distance function\n",
    "def euc( xy1, xy2 ):\n",
    "    \"Returns the Euclidean distance between points xy1 and xy2\"\n",
    "    return ( ( ( xy1[0] - xy2[0] )**2 + ( xy1[1] - xy2[1] )**2 )**0.5 )\n",
    "\n",
    "#kmeans = KMeans(init='random', n_clusters=2, max_iter=10, n_init=10).fit(X)"
   ]
  },
  {
   "cell_type": "code",
   "execution_count": 2,
   "metadata": {},
   "outputs": [
    {
     "name": "stdout",
     "output_type": "stream",
     "text": [
      "On iteration 0: \n",
      " Group 1 contains [(0, 0), (0, 0.5)] around Centroid 1 (0, 0) \n",
      " Group 2 contains [(1, 0.5), (1, 1), (4, 0), (4, 1), (5, 1)] around Centroid 2 (1, 1) \n",
      " distance and groups [((0, 0), 'Group 1', 'Distance_to_1=0.0', 'Distance_to_2=1.41'), ((0, 0.5), 'Group 1', 'Distance_to_1=0.5', 'Distance_to_2=1.12'), ((1, 0.5), 'Group 2', 'Distance_to_1=1.12', 'Distance_to_2=0.5'), ((1, 1), 'Group 2', 'Distance_to_1=1.41', 'Distance_to_2=0.0'), ((4, 0), 'Group 2', 'Distance_to_1=4.0', 'Distance_to_2=3.16'), ((4, 1), 'Group 2', 'Distance_to_1=4.12', 'Distance_to_2=3.0'), ((5, 1), 'Group 2', 'Distance_to_1=5.1', 'Distance_to_2=4.0')]\n",
      "On iteration 1: \n",
      " Group 1 contains [(0, 0), (0, 0.5), (1, 0.5), (1, 1)] around Centroid 1 (0.0, 0.25) \n",
      " Group 2 contains [(4, 0), (4, 1), (5, 1)] around Centroid 2 (3.0, 0.7) \n",
      " distance and groups [((0, 0), 'Group 1', 'Distance_to_1=0.25', 'Distance_to_2=3.08'), ((0, 0.5), 'Group 1', 'Distance_to_1=0.25', 'Distance_to_2=3.01'), ((1, 0.5), 'Group 1', 'Distance_to_1=1.03', 'Distance_to_2=2.01'), ((1, 1), 'Group 1', 'Distance_to_1=1.25', 'Distance_to_2=2.02'), ((4, 0), 'Group 2', 'Distance_to_1=4.01', 'Distance_to_2=1.22'), ((4, 1), 'Group 2', 'Distance_to_1=4.07', 'Distance_to_2=1.04'), ((5, 1), 'Group 2', 'Distance_to_1=5.06', 'Distance_to_2=2.02')]\n",
      "On iteration 2: \n",
      " Group 1 contains [(0, 0), (0, 0.5), (1, 0.5), (1, 1)] around Centroid 1 (0.5, 0.5) \n",
      " Group 2 contains [(4, 0), (4, 1), (5, 1)] around Centroid 2 (4.3333, 0.6667) \n",
      " distance and groups [((0, 0), 'Group 1', 'Distance_to_1=0.71', 'Distance_to_2=4.38'), ((0, 0.5), 'Group 1', 'Distance_to_1=0.5', 'Distance_to_2=4.34'), ((1, 0.5), 'Group 1', 'Distance_to_1=0.5', 'Distance_to_2=3.34'), ((1, 1), 'Group 1', 'Distance_to_1=0.71', 'Distance_to_2=3.35'), ((4, 0), 'Group 2', 'Distance_to_1=3.54', 'Distance_to_2=0.75'), ((4, 1), 'Group 2', 'Distance_to_1=3.54', 'Distance_to_2=0.47'), ((5, 1), 'Group 2', 'Distance_to_1=4.53', 'Distance_to_2=0.75')]\n",
      "Centroids converged after 2 iterations at (0.5, 0.5) and (4.3333, 0.6667)\n"
     ]
    }
   ],
   "source": [
    "#Q2 pt 1\n",
    "X_arrlist = [(0, 0), (0, 0.5), (1, 0.5), (1,1), (4, 0), (4, 1), (5, 1)]\n",
    "cent1 = (0,0)\n",
    "cent2 = (1,1)\n",
    "max_iterations = 10\n",
    "\n",
    "init1 = (0,0)\n",
    "init2 = (1,1)\n",
    "cluster1 = []\n",
    "cluster2 = []\n",
    "counter = []\n",
    "X_atts = []\n",
    "\n",
    "nn1 = 0\n",
    "nn2 = 0\n",
    "i = 0\n",
    "while i < max_iterations:\n",
    "    cluster1 = []\n",
    "    cluster2 = []\n",
    "    X_atts = []\n",
    "\n",
    "    for point in X_arrlist:\n",
    "        d1 = euc( point, cent1 )\n",
    "        d2 = euc( point, cent2 )\n",
    "        if d1 < d2:\n",
    "            cluster1.append( point )\n",
    "            X_atts.append( ( point, 'Group 1', 'Distance_to_1=' + str( round( d1, 2 ) ) , 'Distance_to_2=' + str( round( d2, 2 ) ) ) )\n",
    "        else: \n",
    "            cluster2.append( point )\n",
    "            X_atts.append( ( point, 'Group 2', 'Distance_to_1=' + str( round( d1, 2 ) ) , 'Distance_to_2=' + str( round( d2, 2 ) ) ) )\n",
    "        \n",
    "    print( \"On iteration %s: \\n Group 1 contains %s around Centroid 1 %s \\n Group 2 contains %s around Centroid 2 %s \\n distance and groups %s\" % ( i, cluster1, cent1, cluster2, cent2, X_atts ) )\n",
    "    \n",
    "    #update centroids\n",
    "    if not cluster1:\n",
    "        cluster1.append(cent1)\n",
    "    if not cluster2:\n",
    "        cluster2.append(cent2)    \n",
    "    n1 = [ round( sum(row[j] for row in cluster1)/ len( cluster1 ), 4 ) for j in range(len(cluster1[0])) ] \n",
    "    n2 = [ round( sum(row[j] for row in cluster2)/ len( cluster2 ), 4 ) for j in range(len(cluster2[0])) ] \n",
    "    cent1 = ( n1[0], n1[1] )\n",
    "    cent2 = ( n2[0], n2[1] )\n",
    "    if i > 0:\n",
    "        if n1 == nn1 and n2 == nn2:\n",
    "            print( 'Centroids converged after %s iterations at %s and %s' % (i, cent1, cent2 ) )\n",
    "            break\n",
    "            \n",
    "    nn1 = n1\n",
    "    nn2 = n2\n",
    "    i += 1"
   ]
  },
  {
   "cell_type": "code",
   "execution_count": 3,
   "metadata": {},
   "outputs": [
    {
     "data": {
      "text/plain": [
       "<matplotlib.collections.PathCollection at 0x1856703b608>"
      ]
     },
     "execution_count": 3,
     "metadata": {},
     "output_type": "execute_result"
    },
    {
     "data": {
      "image/png": "[encoded data removed]",
      "text/plain": [
       "<Figure size 432x288 with 1 Axes>"
      ]
     },
     "metadata": {
      "needs_background": "light"
     },
     "output_type": "display_data"
    }
   ],
   "source": [
    "c1x = [ i[0] for i in cluster1 ]\n",
    "c1y = [ i[1] for i in cluster1 ]\n",
    "\n",
    "c2x = [ i[0] for i in cluster2 ]\n",
    "c2y = [ i[1] for i in cluster2 ]\n",
    "\n",
    "plt.scatter(c1x, c1y, color = \"blue\")\n",
    "plt.scatter(c2x, c2y, color = \"red\")\n"
   ]
  },
  {
   "cell_type": "code",
   "execution_count": 4,
   "metadata": {},
   "outputs": [
    {
     "name": "stdout",
     "output_type": "stream",
     "text": [
      "On iteration 0: \n",
      " G1: [(1, 1)] ard (1, 1.5) \n",
      " G2: [(0, 0)] ard (-0.5, 0) \n",
      " G3: [(0, 0.5), (1, 0.5)] ard (0.5, 0.5) \n",
      " G4: [(4, 0), (4, 1), (5, 1)] ard (5.5, 0.5) \n",
      " Distances: [((0, 0), 'G2', 'D1=1.8', 'D2=0.5', 'D3=0.71', 'D4=0.5'), ((0, 0.5), 'G3', 'D1=1.41', 'D2=0.71', 'D3=0.5', 'D4=0.71'), ((1, 0.5), 'G3', 'D1=1.0', 'D2=1.58', 'D3=0.5', 'D4=1.58'), ((4, 0), 'G4', 'D1=3.35', 'D2=4.5', 'D3=3.54', 'D4=4.5'), ((1, 1), 'G1', 'D1=0.5', 'D2=1.8', 'D3=0.71', 'D4=1.8'), ((4, 1), 'G4', 'D1=3.04', 'D2=4.61', 'D3=3.54', 'D4=4.61'), ((5, 1), 'G4', 'D1=4.03', 'D2=5.59', 'D3=4.53', 'D4=5.59')]\n",
      "On iteration 1: \n",
      " G1: [(1, 0.5), (1, 1)] ard (1.0, 1.0) \n",
      " G2: [(0, 0), (0, 0.5)] ard (0.0, 0.0) \n",
      " G3: [] ard (0.5, 0.5) \n",
      " G4: [(4, 0), (4, 1), (5, 1)] ard (4.3333, 0.6667) \n",
      " Distances: [((0, 0), 'G2', 'D1=1.41', 'D2=0.0', 'D3=0.71', 'D4=0.0'), ((0, 0.5), 'G2', 'D1=1.12', 'D2=0.5', 'D3=0.5', 'D4=0.5'), ((1, 0.5), 'G1', 'D1=0.5', 'D2=1.12', 'D3=0.5', 'D4=1.12'), ((4, 0), 'G4', 'D1=3.16', 'D2=4.0', 'D3=3.54', 'D4=4.0'), ((1, 1), 'G1', 'D1=0.0', 'D2=1.41', 'D3=0.71', 'D4=1.41'), ((4, 1), 'G4', 'D1=3.0', 'D2=4.12', 'D3=3.54', 'D4=4.12'), ((5, 1), 'G4', 'D1=4.0', 'D2=5.1', 'D3=4.53', 'D4=5.1')]\n",
      "On iteration 2: \n",
      " G1: [(1, 0.5), (1, 1)] ard (1.0, 0.75) \n",
      " G2: [(0, 0), (0, 0.5)] ard (0.0, 0.25) \n",
      " G3: [] ard (0.5, 0.5) \n",
      " G4: [(4, 0), (4, 1), (5, 1)] ard (4.3333, 0.6667) \n",
      " Distances: [((0, 0), 'G2', 'D1=1.25', 'D2=0.25', 'D3=0.71', 'D4=0.25'), ((0, 0.5), 'G2', 'D1=1.03', 'D2=0.25', 'D3=0.5', 'D4=0.25'), ((1, 0.5), 'G1', 'D1=0.25', 'D2=1.03', 'D3=0.5', 'D4=1.03'), ((4, 0), 'G4', 'D1=3.09', 'D2=4.01', 'D3=3.54', 'D4=4.01'), ((1, 1), 'G1', 'D1=0.25', 'D2=1.25', 'D3=0.71', 'D4=1.25'), ((4, 1), 'G4', 'D1=3.01', 'D2=4.07', 'D3=3.54', 'D4=4.07'), ((5, 1), 'G4', 'D1=4.01', 'D2=5.06', 'D3=4.53', 'D4=5.06')]\n",
      "converged after 2 iterations at (1.0, 0.75), (0.0, 0.25), (0.5, 0.5), (4.3333, 0.6667)\n"
     ]
    }
   ],
   "source": [
    "#Q2 pt 2\n",
    "X = np.array([[0, 0], [0, 0.5], [1, 0.5],[4, 0], [4, 1], [5, 1]])\n",
    "X_arrlist = [(0, 0), (0, 0.5), (1, 0.5),(4, 0), (1,1), (4, 1), (5, 1)]\n",
    "cent1 = (1,1.5)\n",
    "cent2 = (-0.5,0)\n",
    "cent3 =  (0.5,0.5)\n",
    "cent4 = (5.5,0.5)\n",
    "iterations = 10\n",
    "\n",
    "\n",
    "#init1 = (0,0)\n",
    "#init2 = (1,1)\n",
    "#init3 = (9,9)\n",
    "#init4 = (-9,-9)\n",
    "distances_1 = {}\n",
    "distances_2 = {}\n",
    "cluster1 = []\n",
    "cluster2 = []\n",
    "cluster3 = []\n",
    "cluster4 = []\n",
    "counter = []\n",
    "X_atts = []\n",
    "\n",
    "nn1 = 0\n",
    "nn2 = 0\n",
    "nn3 = 0\n",
    "nn4 = 0\n",
    "i = 0\n",
    "while i < iterations:\n",
    "    cluster1 = []\n",
    "    cluster2 = []\n",
    "    cluster3 = []\n",
    "    cluster4 = []\n",
    "    X_atts = []\n",
    "    \n",
    "    for point in X_arrlist:\n",
    "        d1 = euc( point, cent1 )\n",
    "        d2 = euc( point, cent2 )\n",
    "        d3 = euc( point, cent3 )\n",
    "        d4 = euc( point, cent4 )\n",
    "        if min( d1, d2, d3, d4 ) == d1:\n",
    "            cluster1.append( point )\n",
    "            X_atts.append( (point,'G1','D1='+str(round(d1,2)),'D2='+str(round(d2,2)),'D3='+str(round(d3,2)),'D4='+str(round(d2,2))))\n",
    "        elif min( d1, d2, d3, d4 ) == d2:\n",
    "            cluster2.append( point )\n",
    "            X_atts.append( (point,'G2','D1='+str(round(d1,2)),'D2='+str(round(d2,2)),'D3='+str(round(d3,2)),'D4='+str(round(d2,2))))\n",
    "        elif min( d1, d2, d3, d4 ) == d3:\n",
    "            cluster3.append( point )\n",
    "            X_atts.append( (point,'G3','D1='+str(round(d1,2)),'D2='+str(round(d2,2)),'D3='+str(round(d3,2)),'D4='+str(round(d2,2))))\n",
    "        elif min( d1, d2, d3, d4 ) == d4:\n",
    "            cluster4.append( point )\n",
    "            X_atts.append( (point,'G4','D1='+str(round(d1,2)),'D2='+str(round(d2,2)),'D3='+str(round(d3,2)),'D4='+str(round(d2,2))))\n",
    "            \n",
    "        \n",
    "    print(\"On iteration %s: \\n G1: %s ard %s \\n G2: %s ard %s \\n G3: %s ard %s \\n G4: %s ard %s \\n Distances: %s\" % (i,cluster1,cent1,cluster2,cent2,cluster3,cent3,cluster4,cent4,X_atts))\n",
    "    \n",
    "    #update centroids\n",
    "    if not cluster1:\n",
    "        cluster1.append(cent1)\n",
    "    if not cluster2:\n",
    "        cluster2.append(cent2) \n",
    "    if not cluster3:\n",
    "        cluster3.append(cent3)\n",
    "    if not cluster4:\n",
    "        cluster4.append(cent4)           \n",
    "    n1 = [ round( sum(row[j] for row in cluster1)/ len( cluster1 ), 4 ) for j in range(len(cluster1[0])) ] \n",
    "    n2 = [ round( sum(row[j] for row in cluster2)/ len( cluster2 ), 4 ) for j in range(len(cluster2[0])) ] \n",
    "    n3 = [ round( sum(row[j] for row in cluster3)/ len( cluster3 ), 4 ) for j in range(len(cluster3[0])) ]     \n",
    "    n4 = [ round( sum(row[j] for row in cluster4)/ len( cluster4 ), 4 ) for j in range(len(cluster4[0])) ]     \n",
    "    cent1 = ( n1[0], n1[1] )\n",
    "    cent2 = ( n2[0], n2[1] )\n",
    "    cent3 = ( n3[0], n3[1] )\n",
    "    cent4 = ( n4[0], n4[1] )    \n",
    "    if i > 0:\n",
    "        if n1 == nn1 and n2 == nn2 and n3 == nn3 and n4 == nn4:\n",
    "            print('converged after %s iterations at %s, %s, %s, %s' % (i, cent1, cent2, cent3, cent4 ))\n",
    "            break\n",
    "            \n",
    "    \n",
    "    nn1 = n1\n",
    "    nn2 = n2\n",
    "    nn3 = n3\n",
    "    nn4 = n4\n",
    "    \n",
    "    i += 1\n",
    "        \n",
    "    #next i\n",
    "    "
   ]
  },
  {
   "cell_type": "code",
   "execution_count": 5,
   "metadata": {},
   "outputs": [
    {
     "data": {
      "text/plain": [
       "<matplotlib.collections.PathCollection at 0x18567123d88>"
      ]
     },
     "execution_count": 5,
     "metadata": {},
     "output_type": "execute_result"
    },
    {
     "data": {
      "image/png": "[encoded data removed]",
      "text/plain": [
       "<Figure size 432x288 with 1 Axes>"
      ]
     },
     "metadata": {
      "needs_background": "light"
     },
     "output_type": "display_data"
    }
   ],
   "source": [
    "c1x = [ i[0] for i in cluster1 ]\n",
    "c1y = [ i[1] for i in cluster1 ]\n",
    "c2x = [ i[0] for i in cluster2 ]\n",
    "c2y = [ i[1] for i in cluster2 ]\n",
    "c3x = [ i[0] for i in cluster3 ]\n",
    "c3y = [ i[1] for i in cluster3 ]\n",
    "c4x = [ i[0] for i in cluster4 ]\n",
    "c4y = [ i[1] for i in cluster4 ]\n",
    "cent = [ cent1, cent2, cent3, cent4 ]\n",
    "cx = [ i[0] for i in cent ]\n",
    "cy = [ i[1] for i in cent ]\n",
    "\n",
    "plt.scatter(c1x, c1y, color = \"b\")\n",
    "plt.scatter(c2x, c2y, color = \"r\")\n",
    "plt.scatter(c3x, c3y, color = \"forestgreen\")\n",
    "plt.scatter(c4x, c4y, color = \"goldenrod\")\n",
    "plt.scatter(cx, cy, color = 'm')"
   ]
  },
  {
   "cell_type": "code",
   "execution_count": 6,
   "metadata": {},
   "outputs": [
    {
     "name": "stdout",
     "output_type": "stream",
     "text": [
      "On iteration 0: \n",
      " G1 contains [1, 2] ard C1 0 \n",
      " G2 contains [8, 9] ard C2 10 \n",
      " G3 contains [3, 7] ard C3 5 \n",
      " Distance and groups [(1, 'G1', 'D1=1', 'D2=9', 'D3=4'), (2, 'G1', 'D1=2', 'D2=8', 'D3=3'), (3, 'G3', 'D1=3', 'D2=7', 'D3=2'), (7, 'G3', 'D1=7', 'D2=3', 'D3=2'), (8, 'G2', 'D1=8', 'D2=2', 'D3=3'), (9, 'G2', 'D1=9', 'D2=1', 'D3=4')]\n",
      "On iteration 1: \n",
      " G1 contains [1, 2, 3] ard C1 1.5 \n",
      " G2 contains [7, 8, 9] ard C2 8.5 \n",
      " G3 contains [] ard C3 5.0 \n",
      " Distance and groups [(1, 'G1', 'D1=0.5', 'D2=7.5', 'D3=4.0'), (2, 'G1', 'D1=0.5', 'D2=6.5', 'D3=3.0'), (3, 'G1', 'D1=1.5', 'D2=5.5', 'D3=2.0'), (7, 'G2', 'D1=5.5', 'D2=1.5', 'D3=2.0'), (8, 'G2', 'D1=6.5', 'D2=0.5', 'D3=3.0'), (9, 'G2', 'D1=7.5', 'D2=0.5', 'D3=4.0')]\n",
      "On iteration 2: \n",
      " G1 contains [1, 2, 3] ard C1 2.0 \n",
      " G2 contains [7, 8, 9] ard C2 8.0 \n",
      " G3 contains [] ard C3 5.0 \n",
      " Distance and groups [(1, 'G1', 'D1=1.0', 'D2=7.0', 'D3=4.0'), (2, 'G1', 'D1=0.0', 'D2=6.0', 'D3=3.0'), (3, 'G1', 'D1=1.0', 'D2=5.0', 'D3=2.0'), (7, 'G2', 'D1=5.0', 'D2=1.0', 'D3=2.0'), (8, 'G2', 'D1=6.0', 'D2=0.0', 'D3=3.0'), (9, 'G2', 'D1=7.0', 'D2=1.0', 'D3=4.0')]\n",
      "converged after 2 iterations at 2.0, 8.0, 5.0\n"
     ]
    }
   ],
   "source": [
    "#Q2 pt 2-2\n",
    "X_arrlist = [1, 2, 3, 7, 8, 9]\n",
    "cent1 = 0\n",
    "cent2 = 10\n",
    "cent3 = 5\n",
    "iterations = 10\n",
    "cluster1 = []\n",
    "cluster2 = []\n",
    "cluster3 = []\n",
    "X_atts = []\n",
    "\n",
    "nn1 = 0\n",
    "nn2 = 0\n",
    "nn3 = 0\n",
    "i = 0\n",
    "while i < iterations:\n",
    "    cluster1 = []\n",
    "    cluster2 = []\n",
    "    cluster3 = []\n",
    "    X_atts = []\n",
    "    for point in X_arrlist:\n",
    "        d1 = abs( point - cent1 )\n",
    "        d2 = abs( point - cent2 )\n",
    "        d3 = abs( point - cent3 )\n",
    "        if min( d1, d2, d3 ) == d1:\n",
    "            cluster1.append( point )\n",
    "            X_atts.append( (point,'G1','D1='+str(round(d1,2)),'D2='+str(round(d2,2)), 'D3='+str(round(d3,2))) )\n",
    "        elif min( d1, d2, d3 ) == d2:\n",
    "            cluster2.append( point )\n",
    "            X_atts.append( (point,'G2','D1='+str(round(d1,2)),'D2='+str(round(d2,2)), 'D3='+str(round(d3,2))) )      \n",
    "        else:\n",
    "            cluster3.append( point )\n",
    "            X_atts.append( (point,'G3','D1='+str(round(d1,2)),'D2='+str(round(d2,2)), 'D3='+str(round(d3,2))) )\n",
    "\n",
    "    print( \"On iteration %s: \\n G1 contains %s ard C1 %s \\n G2 contains %s ard C2 %s \\n G3 contains %s ard C3 %s \\n Distance and groups %s\" % ( i, cluster1, cent1, cluster2, cent2, cluster3, cent3, X_atts ) )\n",
    "    \n",
    "    #update centroids\n",
    "    if not cluster1:\n",
    "        cluster1.append(cent1)\n",
    "    if not cluster2:\n",
    "        cluster2.append(cent2) \n",
    "    if not cluster3:\n",
    "        cluster3.append(cent3)         \n",
    "    n1 = round( sum( cluster1 )/len( cluster1 ), 4)\n",
    "    n2 = round( sum( cluster2 )/len( cluster2 ), 4)\n",
    "    n3 = round( sum( cluster3 )/len( cluster3 ), 4)    \n",
    "  \n",
    "    cent1 = ( n1 )\n",
    "    cent2 = ( n2 )   \n",
    "    cent3 = ( n3 )     \n",
    "    if i > 0:\n",
    "        if n1 == nn1 and n2 == nn2 and n3 == nn3:\n",
    "            print('converged after %s iterations at %s, %s, %s' % (i, cent1, cent2, cent3 ))\n",
    "            break\n",
    "        \n",
    "    nn1 = n1\n",
    "    nn2 = n2\n",
    "    nn3 = n3\n",
    "    \n",
    "    i += 1\n",
    "        \n",
    "    #next i\n",
    "    "
   ]
  }
 ],
 "metadata": {
  "kernelspec": {
   "display_name": "Python 3",
   "language": "python",
   "name": "python3"
  },
  "language_info": {
   "codemirror_mode": {
    "name": "ipython",
    "version": 3
   },
   "file_extension": ".py",
   "mimetype": "text/x-python",
   "name": "python",
   "nbconvert_exporter": "python",
   "pygments_lexer": "ipython3",
   "version": "3.7.6"
  }
 },
 "nbformat": 4,
 "nbformat_minor": 4
}
